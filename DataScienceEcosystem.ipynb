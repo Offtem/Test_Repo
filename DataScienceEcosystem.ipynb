{
 "cells": [
  {
   "cell_type": "markdown",
   "id": "12271999-020b-49b5-872b-7014be4dade5",
   "metadata": {},
   "source": [
    "# Data Science Tools and Ecosystem"
   ]
  },
  {
   "cell_type": "markdown",
   "id": "5560c291-4077-4c2f-98e6-0d69e0324a7f",
   "metadata": {},
   "source": [
    "## In this notebook, Data Science Tools and Ecosystem are summarized."
   ]
  },
  {
   "cell_type": "markdown",
   "id": "210012af-82a1-4ef3-bd9f-978182d608c5",
   "metadata": {},
   "source": [
    "## **Author** Mark Offtermatt"
   ]
  },
  {
   "cell_type": "markdown",
   "id": "a8694afa-810c-4237-8c35-962c0745a147",
   "metadata": {},
   "source": [
    "## Three commonly used libraries used by data scientists include Pandas, NumPy, and Scikit-Learn\n",
    "num1 = \"Pandas\"\n",
    "num2 = \"NumPy\"\n",
    "num3 = \"Scikit-Learn\"\n",
    "\n",
    "print(f'The three data science libraries commonly used are: 1. {num1}, 2. {num2}, 3. {num3}.')"
   ]
  },
  {
   "cell_type": "markdown",
   "id": "4afc9920-09c0-4673-9efd-4af75badaafd",
   "metadata": {},
   "source": [
    "# Data Science Tools\n",
    "num1 = \"Python\"\n",
    "num2 = \"Jupyter Notebooks\"\n",
    "num3 = \"Apache Spark\"\n",
    "print(f'Three common development environment open source tools used in data science are: 1. {num1}, 2. {num2}, 3.{num3}.')"
   ]
  },
  {
   "cell_type": "markdown",
   "id": "53d4498f-6659-4540-8b8e-ba9515d5021d",
   "metadata": {},
   "source": [
    "**Objectives**\n",
    "- List three common libraries\n",
    "- list three data science languages\n",
    "- list three data science libraries (accidentally deleted)"
   ]
  },
  {
   "cell_type": "markdown",
   "id": "8b1d6c52-3377-40b0-9335-b452eb527136",
   "metadata": {},
   "source": [
    "## The three Data Science Languages commonly used by Data Scientists are Python, R, and SQL.\n",
    "num1 = \"Python\"\n",
    "num2 = \"R\"\n",
    "num3 = \"SQL\"\n",
    "\n",
    "print(f'The three Data Science Languages are: 1. {num1}, 2. {num2}, 3. {num3}.')"
   ]
  },
  {
   "cell_type": "markdown",
   "id": "e2ac5fc2-77d6-4af9-8613-764b90cb7459",
   "metadata": {},
   "source": [
    "## The Three Data Science Open Development Source Tools are\n",
    "num1 = \"Python\"\n",
    "num2 = \"Jupyter Notebooks\"\n",
    "num3 = \"Apache Spark\"\n",
    "print(f'The three Data Science Open Development Source Tools are: 1. {num1}, 2. {num2}, 3. {num3}.')"
   ]
  },
  {
   "cell_type": "markdown",
   "id": "d8f686a9-36a9-4d11-b0e4-1d25b50133f3",
   "metadata": {},
   "source": [
    "### Below are a few examples of evaluating arithmetic expressions in python."
   ]
  },
  {
   "cell_type": "code",
   "execution_count": 15,
   "id": "2fafe249-d040-406f-84e7-b832e4e4b2b1",
   "metadata": {},
   "outputs": [
    {
     "data": {
      "text/plain": [
       "17"
      ]
     },
     "execution_count": 15,
     "metadata": {},
     "output_type": "execute_result"
    }
   ],
   "source": [
    "# This is a simple expression to multiply then add integers.\n",
    "(3*4)+5"
   ]
  },
  {
   "cell_type": "code",
   "execution_count": 17,
   "id": "ecf43690-b290-4f01-a3b2-fadf5bda662d",
   "metadata": {},
   "outputs": [
    {
     "name": "stdout",
     "output_type": "stream",
     "text": [
      "200 minutes is equal to 3.33 hours.\n"
     ]
    }
   ],
   "source": [
    "# This will convert 200 minutes to hours by dividing by 60 using an f.string.\n",
    "minutes = 200\n",
    "print(f\"{minutes} minutes is equal to {minutes / 60:.2f} hours.\")"
   ]
  },
  {
   "cell_type": "code",
   "execution_count": null,
   "id": "1defbcde-b4dc-4454-9fd4-873a09ee9d2f",
   "metadata": {},
   "outputs": [],
   "source": []
  }
 ],
 "metadata": {
  "kernelspec": {
   "display_name": "Python 3 (ipykernel)",
   "language": "python",
   "name": "python3"
  },
  "language_info": {
   "codemirror_mode": {
    "name": "ipython",
    "version": 3
   },
   "file_extension": ".py",
   "mimetype": "text/x-python",
   "name": "python",
   "nbconvert_exporter": "python",
   "pygments_lexer": "ipython3",
   "version": "3.11.7"
  }
 },
 "nbformat": 4,
 "nbformat_minor": 5
}
